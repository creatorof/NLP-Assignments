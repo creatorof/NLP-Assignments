{
 "cells": [
  {
   "cell_type": "code",
   "execution_count": null,
   "id": "coupled-associate",
   "metadata": {},
   "outputs": [],
   "source": [
    "import snscrape.modules.twitter as sntwitter\n",
    "import pandas as pd\n",
    "import itertools"
   ]
  },
  {
   "cell_type": "code",
   "execution_count": 26,
   "id": "prescribed-might",
   "metadata": {},
   "outputs": [],
   "source": [
    "raw_content = []"
   ]
  },
  {
   "cell_type": "code",
   "execution_count": 35,
   "id": "applicable-championship",
   "metadata": {},
   "outputs": [],
   "source": [
    "result = sntwitter.TwitterHashtagScraper('macbook_2022').get_items()"
   ]
  },
  {
   "cell_type": "code",
   "execution_count": 36,
   "id": "indoor-nursing",
   "metadata": {},
   "outputs": [],
   "source": [
    "counter = 0\n",
    "for i, tweet in enumerate(result):\n",
    "    if(tweet.lang == 'en'):\n",
    "        print(tweet.rawContent)\n",
    "        counter += 1\n",
    "        if counter > 50:\n",
    "            break\n",
    "        "
   ]
  },
  {
   "cell_type": "code",
   "execution_count": 4,
   "id": "ordinary-contemporary",
   "metadata": {},
   "outputs": [
    {
     "data": {
      "text/html": [
       "<div>\n",
       "<style scoped>\n",
       "    .dataframe tbody tr th:only-of-type {\n",
       "        vertical-align: middle;\n",
       "    }\n",
       "\n",
       "    .dataframe tbody tr th {\n",
       "        vertical-align: top;\n",
       "    }\n",
       "\n",
       "    .dataframe thead th {\n",
       "        text-align: right;\n",
       "    }\n",
       "</style>\n",
       "<table border=\"1\" class=\"dataframe\">\n",
       "  <thead>\n",
       "    <tr style=\"text-align: right;\">\n",
       "      <th></th>\n",
       "      <th>Date Created</th>\n",
       "      <th>Number of Likes</th>\n",
       "      <th>Source of Tweet</th>\n",
       "      <th>Tweets</th>\n",
       "    </tr>\n",
       "  </thead>\n",
       "  <tbody>\n",
       "    <tr>\n",
       "      <th>0</th>\n",
       "      <td>2023-02-13 21:48:18+00:00</td>\n",
       "      <td>0</td>\n",
       "      <td>Twitter for iPhone</td>\n",
       "      <td>@ishherreraa that FG pick screwed me too!!</td>\n",
       "    </tr>\n",
       "    <tr>\n",
       "      <th>1</th>\n",
       "      <td>2023-02-12 18:21:37+00:00</td>\n",
       "      <td>8</td>\n",
       "      <td>Twitter for iPhone</td>\n",
       "      <td>@patrickbetdavid nah</td>\n",
       "    </tr>\n",
       "    <tr>\n",
       "      <th>2</th>\n",
       "      <td>2023-02-12 18:20:57+00:00</td>\n",
       "      <td>2</td>\n",
       "      <td>Twitter for iPhone</td>\n",
       "      <td>@BigTalkMMA Happy to meet you too. Hope you ha...</td>\n",
       "    </tr>\n",
       "    <tr>\n",
       "      <th>3</th>\n",
       "      <td>2023-02-12 18:02:01+00:00</td>\n",
       "      <td>97</td>\n",
       "      <td>Twitter for iPhone</td>\n",
       "      <td>Bottled Blonde in Scottsdale, AZ with the team...</td>\n",
       "    </tr>\n",
       "    <tr>\n",
       "      <th>4</th>\n",
       "      <td>2023-02-11 15:36:42+00:00</td>\n",
       "      <td>33</td>\n",
       "      <td>Twitter Web App</td>\n",
       "      <td>@stevewilldoit @happydad i agree.. a ton of st...</td>\n",
       "    </tr>\n",
       "    <tr>\n",
       "      <th>...</th>\n",
       "      <td>...</td>\n",
       "      <td>...</td>\n",
       "      <td>...</td>\n",
       "      <td>...</td>\n",
       "    </tr>\n",
       "    <tr>\n",
       "      <th>96</th>\n",
       "      <td>2022-12-13 15:16:50+00:00</td>\n",
       "      <td>141</td>\n",
       "      <td>Twitter for iPhone</td>\n",
       "      <td>🖖🏼 https://t.co/M1FuKkX4q1</td>\n",
       "    </tr>\n",
       "    <tr>\n",
       "      <th>97</th>\n",
       "      <td>2022-12-12 23:00:34+00:00</td>\n",
       "      <td>195</td>\n",
       "      <td>Twitter for iPhone</td>\n",
       "      <td>Over 2 eth floor price for the first time for ...</td>\n",
       "    </tr>\n",
       "    <tr>\n",
       "      <th>98</th>\n",
       "      <td>2022-12-12 18:38:54+00:00</td>\n",
       "      <td>120</td>\n",
       "      <td>Twitter for iPhone</td>\n",
       "      <td>This is insane… a free mint for @metacard hold...</td>\n",
       "    </tr>\n",
       "    <tr>\n",
       "      <th>99</th>\n",
       "      <td>2022-12-11 14:30:01+00:00</td>\n",
       "      <td>68</td>\n",
       "      <td>Twitter for iPhone</td>\n",
       "      <td>Thoughts on Twitter increasing from 280 charac...</td>\n",
       "    </tr>\n",
       "    <tr>\n",
       "      <th>100</th>\n",
       "      <td>2022-12-11 05:15:24+00:00</td>\n",
       "      <td>45</td>\n",
       "      <td>Twitter for iPhone</td>\n",
       "      <td>Legends 🔥🔥</td>\n",
       "    </tr>\n",
       "  </tbody>\n",
       "</table>\n",
       "<p>101 rows × 4 columns</p>\n",
       "</div>"
      ],
      "text/plain": [
       "                 Date Created  Number of Likes     Source of Tweet  \\\n",
       "0   2023-02-13 21:48:18+00:00                0  Twitter for iPhone   \n",
       "1   2023-02-12 18:21:37+00:00                8  Twitter for iPhone   \n",
       "2   2023-02-12 18:20:57+00:00                2  Twitter for iPhone   \n",
       "3   2023-02-12 18:02:01+00:00               97  Twitter for iPhone   \n",
       "4   2023-02-11 15:36:42+00:00               33     Twitter Web App   \n",
       "..                        ...              ...                 ...   \n",
       "96  2022-12-13 15:16:50+00:00              141  Twitter for iPhone   \n",
       "97  2022-12-12 23:00:34+00:00              195  Twitter for iPhone   \n",
       "98  2022-12-12 18:38:54+00:00              120  Twitter for iPhone   \n",
       "99  2022-12-11 14:30:01+00:00               68  Twitter for iPhone   \n",
       "100 2022-12-11 05:15:24+00:00               45  Twitter for iPhone   \n",
       "\n",
       "                                                Tweets  \n",
       "0           @ishherreraa that FG pick screwed me too!!  \n",
       "1                                 @patrickbetdavid nah  \n",
       "2    @BigTalkMMA Happy to meet you too. Hope you ha...  \n",
       "3    Bottled Blonde in Scottsdale, AZ with the team...  \n",
       "4    @stevewilldoit @happydad i agree.. a ton of st...  \n",
       "..                                                 ...  \n",
       "96                          🖖🏼 https://t.co/M1FuKkX4q1  \n",
       "97   Over 2 eth floor price for the first time for ...  \n",
       "98   This is insane… a free mint for @metacard hold...  \n",
       "99   Thoughts on Twitter increasing from 280 charac...  \n",
       "100                                         Legends 🔥🔥  \n",
       "\n",
       "[101 rows x 4 columns]"
      ]
     },
     "execution_count": 4,
     "metadata": {},
     "output_type": "execute_result"
    }
   ],
   "source": [
    "tweets_df"
   ]
  }
 ],
 "metadata": {
  "kernelspec": {
   "display_name": "Python 3",
   "language": "python",
   "name": "python3"
  },
  "language_info": {
   "codemirror_mode": {
    "name": "ipython",
    "version": 3
   },
   "file_extension": ".py",
   "mimetype": "text/x-python",
   "name": "python",
   "nbconvert_exporter": "python",
   "pygments_lexer": "ipython3",
   "version": "3.8.7"
  },
  "vscode": {
   "interpreter": {
    "hash": "6bcdb972dd62312124bd768797effff5a7a31bb4d1425762182f9810b3cde193"
   }
  }
 },
 "nbformat": 4,
 "nbformat_minor": 5
}
