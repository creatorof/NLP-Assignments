{
  "nbformat": 4,
  "nbformat_minor": 0,
  "metadata": {
    "colab": {
      "provenance": []
    },
    "kernelspec": {
      "name": "python3",
      "display_name": "Python 3"
    },
    "language_info": {
      "name": "python"
    }
  },
  "cells": [
    {
      "cell_type": "markdown",
      "source": [
        "# 1. Load Dataset"
      ],
      "metadata": {
        "id": "N8r-aW45X2NV"
      }
    },
    {
      "cell_type": "code",
      "execution_count": 1,
      "metadata": {
        "colab": {
          "base_uri": "https://localhost:8080/"
        },
        "id": "Ie1CH3DBWMwp",
        "outputId": "4228bc49-04ca-4729-b32c-7c5bb876a820"
      },
      "outputs": [
        {
          "output_type": "stream",
          "name": "stdout",
          "text": [
            "Looking in indexes: https://pypi.org/simple, https://us-python.pkg.dev/colab-wheels/public/simple/\n",
            "Requirement already satisfied: pytreebank in /usr/local/lib/python3.8/dist-packages (0.2.7)\n"
          ]
        }
      ],
      "source": [
        "!pip install pytreebank"
      ]
    },
    {
      "cell_type": "code",
      "source": [
        "!pip install torch torchdata torchtext"
      ],
      "metadata": {
        "colab": {
          "base_uri": "https://localhost:8080/"
        },
        "id": "OdZg7UdOX96T",
        "outputId": "3685ce53-31a6-40dd-99f0-ef1140392ca2"
      },
      "execution_count": 2,
      "outputs": [
        {
          "output_type": "stream",
          "name": "stdout",
          "text": [
            "Looking in indexes: https://pypi.org/simple, https://us-python.pkg.dev/colab-wheels/public/simple/\n",
            "Requirement already satisfied: torch in /usr/local/lib/python3.8/dist-packages (1.13.1+cu116)\n",
            "Requirement already satisfied: torchdata in /usr/local/lib/python3.8/dist-packages (0.5.1)\n",
            "Requirement already satisfied: torchtext in /usr/local/lib/python3.8/dist-packages (0.14.1)\n",
            "Requirement already satisfied: typing-extensions in /usr/local/lib/python3.8/dist-packages (from torch) (4.4.0)\n",
            "Requirement already satisfied: portalocker>=2.0.0 in /usr/local/lib/python3.8/dist-packages (from torchdata) (2.7.0)\n",
            "Requirement already satisfied: urllib3>=1.25 in /usr/local/lib/python3.8/dist-packages (from torchdata) (1.26.14)\n",
            "Requirement already satisfied: requests in /usr/local/lib/python3.8/dist-packages (from torchdata) (2.25.1)\n",
            "Requirement already satisfied: numpy in /usr/local/lib/python3.8/dist-packages (from torchtext) (1.21.6)\n",
            "Requirement already satisfied: tqdm in /usr/local/lib/python3.8/dist-packages (from torchtext) (4.64.1)\n",
            "Requirement already satisfied: certifi>=2017.4.17 in /usr/local/lib/python3.8/dist-packages (from requests->torchdata) (2022.12.7)\n",
            "Requirement already satisfied: chardet<5,>=3.0.2 in /usr/local/lib/python3.8/dist-packages (from requests->torchdata) (4.0.0)\n",
            "Requirement already satisfied: idna<3,>=2.5 in /usr/local/lib/python3.8/dist-packages (from requests->torchdata) (2.10)\n"
          ]
        }
      ]
    },
    {
      "cell_type": "code",
      "source": [
        "import pytreebank\n",
        "import torch\n",
        "import torchdata\n",
        "import torchtext\n",
        "from torch import nn\n",
        "import time"
      ],
      "metadata": {
        "id": "XXWZlIctWdNv"
      },
      "execution_count": 3,
      "outputs": []
    },
    {
      "cell_type": "code",
      "source": [
        "dataset = pytreebank.load_sst(\"./sentiment/\")"
      ],
      "metadata": {
        "id": "5Ieu3QQBWnIK"
      },
      "execution_count": 4,
      "outputs": []
    },
    {
      "cell_type": "code",
      "source": [
        "train_data = pytreebank.import_tree_corpus(\"./sentiment/train.txt\")\n",
        "test_data = pytreebank.import_tree_corpus(\"./sentiment/test.txt\")\n",
        "dev_data = pytreebank.import_tree_corpus(\"./sentiment/dev.txt\")"
      ],
      "metadata": {
        "id": "jlMOYB-AWpzS"
      },
      "execution_count": 5,
      "outputs": []
    },
    {
      "cell_type": "code",
      "source": [
        "td = train_data[0]\n",
        "for label, sentence in td.to_labeled_lines():\n",
        "  print(label, sentence)\n",
        "  break"
      ],
      "metadata": {
        "colab": {
          "base_uri": "https://localhost:8080/"
        },
        "id": "WGNmYA6HWrcj",
        "outputId": "3cb4f6ca-43c4-44f6-b429-58bea3f8862e"
      },
      "execution_count": 6,
      "outputs": [
        {
          "output_type": "stream",
          "name": "stdout",
          "text": [
            "3 The Rock is destined to be the 21st Century 's new `` Conan '' and that he 's going to make a splash even greater than Arnold Schwarzenegger , Jean-Claud Van Damme or Steven Segal .\n"
          ]
        }
      ]
    },
    {
      "cell_type": "code",
      "source": [
        "set([label for t in train_data for label, sentence in t.to_labeled_lines()])"
      ],
      "metadata": {
        "colab": {
          "base_uri": "https://localhost:8080/"
        },
        "id": "guB5tsoQYmKP",
        "outputId": "f3c10278-155a-4a13-9e9f-46d1814812dd"
      },
      "execution_count": 7,
      "outputs": [
        {
          "output_type": "execute_result",
          "data": {
            "text/plain": [
              "{0, 1, 2, 3, 4}"
            ]
          },
          "metadata": {},
          "execution_count": 7
        }
      ]
    },
    {
      "cell_type": "code",
      "source": [
        "SEED = 999\n",
        "torch.manual_seed(SEED)\n",
        "torch.backends.cudnn.deterministic = True"
      ],
      "metadata": {
        "id": "RY7psR5rXP3n"
      },
      "execution_count": 8,
      "outputs": []
    },
    {
      "cell_type": "code",
      "source": [
        "def flatten(data):\n",
        "   return  [(label, text) for d in data for label,text in d.to_labeled_lines()]"
      ],
      "metadata": {
        "id": "KxTeJR_pYyYv"
      },
      "execution_count": 9,
      "outputs": []
    },
    {
      "cell_type": "code",
      "source": [
        "train_data = flatten(train_data)\n",
        "test_data = flatten(test_data)\n",
        "valid_data = flatten(dev_data)"
      ],
      "metadata": {
        "id": "gutu3EzvZ-6h"
      },
      "execution_count": 10,
      "outputs": []
    },
    {
      "cell_type": "code",
      "source": [
        "for td in train_data:\n",
        "  if td[0] == -1:\n",
        "    print(td[0])\n",
        "    break"
      ],
      "metadata": {
        "id": "-vmbn4Uc1TDG"
      },
      "execution_count": 11,
      "outputs": []
    },
    {
      "cell_type": "code",
      "source": [
        "train_size = len(train_data)\n",
        "test_size = len(test_data)\n",
        "valid_size = len(valid_data)"
      ],
      "metadata": {
        "id": "vGbVt7NgY6YC"
      },
      "execution_count": 12,
      "outputs": []
    },
    {
      "cell_type": "code",
      "source": [
        "train_size, test_size, valid_size"
      ],
      "metadata": {
        "colab": {
          "base_uri": "https://localhost:8080/"
        },
        "id": "1dPK6a6yY2tR",
        "outputId": "031b463f-afde-45bf-d509-388f6131e232"
      },
      "execution_count": 13,
      "outputs": [
        {
          "output_type": "execute_result",
          "data": {
            "text/plain": [
              "(318582, 82600, 41447)"
            ]
          },
          "metadata": {},
          "execution_count": 13
        }
      ]
    },
    {
      "cell_type": "markdown",
      "source": [
        "# 2. Preprocessing\n",
        "## 2.1 Tokenization"
      ],
      "metadata": {
        "id": "C3yi0MI4aZBZ"
      }
    },
    {
      "cell_type": "code",
      "source": [
        "!pip install spacy"
      ],
      "metadata": {
        "colab": {
          "base_uri": "https://localhost:8080/"
        },
        "id": "TLLeTeEna6Wo",
        "outputId": "078f7347-47d1-42c0-9e6e-d9ad874ab734"
      },
      "execution_count": 14,
      "outputs": [
        {
          "output_type": "stream",
          "name": "stdout",
          "text": [
            "Looking in indexes: https://pypi.org/simple, https://us-python.pkg.dev/colab-wheels/public/simple/\n",
            "Requirement already satisfied: spacy in /usr/local/lib/python3.8/dist-packages (3.4.4)\n",
            "Requirement already satisfied: jinja2 in /usr/local/lib/python3.8/dist-packages (from spacy) (2.11.3)\n",
            "Requirement already satisfied: spacy-legacy<3.1.0,>=3.0.10 in /usr/local/lib/python3.8/dist-packages (from spacy) (3.0.12)\n",
            "Requirement already satisfied: packaging>=20.0 in /usr/local/lib/python3.8/dist-packages (from spacy) (23.0)\n",
            "Requirement already satisfied: tqdm<5.0.0,>=4.38.0 in /usr/local/lib/python3.8/dist-packages (from spacy) (4.64.1)\n",
            "Requirement already satisfied: langcodes<4.0.0,>=3.2.0 in /usr/local/lib/python3.8/dist-packages (from spacy) (3.3.0)\n",
            "Requirement already satisfied: pathy>=0.3.5 in /usr/local/lib/python3.8/dist-packages (from spacy) (0.10.1)\n",
            "Requirement already satisfied: setuptools in /usr/local/lib/python3.8/dist-packages (from spacy) (57.4.0)\n",
            "Requirement already satisfied: catalogue<2.1.0,>=2.0.6 in /usr/local/lib/python3.8/dist-packages (from spacy) (2.0.8)\n",
            "Requirement already satisfied: smart-open<7.0.0,>=5.2.1 in /usr/local/lib/python3.8/dist-packages (from spacy) (6.3.0)\n",
            "Requirement already satisfied: typer<0.8.0,>=0.3.0 in /usr/local/lib/python3.8/dist-packages (from spacy) (0.7.0)\n",
            "Requirement already satisfied: murmurhash<1.1.0,>=0.28.0 in /usr/local/lib/python3.8/dist-packages (from spacy) (1.0.9)\n",
            "Requirement already satisfied: cymem<2.1.0,>=2.0.2 in /usr/local/lib/python3.8/dist-packages (from spacy) (2.0.7)\n",
            "Requirement already satisfied: preshed<3.1.0,>=3.0.2 in /usr/local/lib/python3.8/dist-packages (from spacy) (3.0.8)\n",
            "Requirement already satisfied: requests<3.0.0,>=2.13.0 in /usr/local/lib/python3.8/dist-packages (from spacy) (2.25.1)\n",
            "Requirement already satisfied: numpy>=1.15.0 in /usr/local/lib/python3.8/dist-packages (from spacy) (1.21.6)\n",
            "Requirement already satisfied: pydantic!=1.8,!=1.8.1,<1.11.0,>=1.7.4 in /usr/local/lib/python3.8/dist-packages (from spacy) (1.10.4)\n",
            "Requirement already satisfied: thinc<8.2.0,>=8.1.0 in /usr/local/lib/python3.8/dist-packages (from spacy) (8.1.7)\n",
            "Requirement already satisfied: wasabi<1.1.0,>=0.9.1 in /usr/local/lib/python3.8/dist-packages (from spacy) (0.10.1)\n",
            "Requirement already satisfied: srsly<3.0.0,>=2.4.3 in /usr/local/lib/python3.8/dist-packages (from spacy) (2.4.5)\n",
            "Requirement already satisfied: spacy-loggers<2.0.0,>=1.0.0 in /usr/local/lib/python3.8/dist-packages (from spacy) (1.0.4)\n",
            "Requirement already satisfied: typing-extensions>=4.2.0 in /usr/local/lib/python3.8/dist-packages (from pydantic!=1.8,!=1.8.1,<1.11.0,>=1.7.4->spacy) (4.4.0)\n",
            "Requirement already satisfied: urllib3<1.27,>=1.21.1 in /usr/local/lib/python3.8/dist-packages (from requests<3.0.0,>=2.13.0->spacy) (1.26.14)\n",
            "Requirement already satisfied: idna<3,>=2.5 in /usr/local/lib/python3.8/dist-packages (from requests<3.0.0,>=2.13.0->spacy) (2.10)\n",
            "Requirement already satisfied: certifi>=2017.4.17 in /usr/local/lib/python3.8/dist-packages (from requests<3.0.0,>=2.13.0->spacy) (2022.12.7)\n",
            "Requirement already satisfied: chardet<5,>=3.0.2 in /usr/local/lib/python3.8/dist-packages (from requests<3.0.0,>=2.13.0->spacy) (4.0.0)\n",
            "Requirement already satisfied: confection<1.0.0,>=0.0.1 in /usr/local/lib/python3.8/dist-packages (from thinc<8.2.0,>=8.1.0->spacy) (0.0.4)\n",
            "Requirement already satisfied: blis<0.8.0,>=0.7.8 in /usr/local/lib/python3.8/dist-packages (from thinc<8.2.0,>=8.1.0->spacy) (0.7.9)\n",
            "Requirement already satisfied: click<9.0.0,>=7.1.1 in /usr/local/lib/python3.8/dist-packages (from typer<0.8.0,>=0.3.0->spacy) (7.1.2)\n",
            "Requirement already satisfied: MarkupSafe>=0.23 in /usr/local/lib/python3.8/dist-packages (from jinja2->spacy) (2.0.1)\n"
          ]
        }
      ]
    },
    {
      "cell_type": "code",
      "source": [
        "from torchtext.data.utils import get_tokenizer\n",
        "\n",
        "tokenizer = get_tokenizer('spacy', language='en_core_web_sm')"
      ],
      "metadata": {
        "colab": {
          "base_uri": "https://localhost:8080/"
        },
        "id": "4wwBTqM2aWWX",
        "outputId": "90304b5f-cc34-4885-bbba-7303124cb52b"
      },
      "execution_count": 15,
      "outputs": [
        {
          "output_type": "stream",
          "name": "stderr",
          "text": [
            "/usr/local/lib/python3.8/dist-packages/torch/cuda/__init__.py:497: UserWarning: Can't initialize NVML\n",
            "  warnings.warn(\"Can't initialize NVML\")\n"
          ]
        }
      ]
    },
    {
      "cell_type": "code",
      "source": [
        "tokens = tokenizer(train_data[0][1])\n",
        "tokens"
      ],
      "metadata": {
        "colab": {
          "base_uri": "https://localhost:8080/"
        },
        "id": "JlCjx8-GbMjx",
        "outputId": "45e06879-38f7-4796-afef-185d4eeb82fe"
      },
      "execution_count": 16,
      "outputs": [
        {
          "output_type": "execute_result",
          "data": {
            "text/plain": [
              "['The',\n",
              " 'Rock',\n",
              " 'is',\n",
              " 'destined',\n",
              " 'to',\n",
              " 'be',\n",
              " 'the',\n",
              " '21st',\n",
              " 'Century',\n",
              " \"'s\",\n",
              " 'new',\n",
              " '`',\n",
              " '`',\n",
              " 'Conan',\n",
              " \"''\",\n",
              " 'and',\n",
              " 'that',\n",
              " 'he',\n",
              " \"'s\",\n",
              " 'going',\n",
              " 'to',\n",
              " 'make',\n",
              " 'a',\n",
              " 'splash',\n",
              " 'even',\n",
              " 'greater',\n",
              " 'than',\n",
              " 'Arnold',\n",
              " 'Schwarzenegger',\n",
              " ',',\n",
              " 'Jean',\n",
              " '-',\n",
              " 'Claud',\n",
              " 'Van',\n",
              " 'Damme',\n",
              " 'or',\n",
              " 'Steven',\n",
              " 'Segal',\n",
              " '.']"
            ]
          },
          "metadata": {},
          "execution_count": 16
        }
      ]
    },
    {
      "cell_type": "markdown",
      "source": [
        "### 2.2 Numericalization"
      ],
      "metadata": {
        "id": "UajP-uagbeK3"
      }
    },
    {
      "cell_type": "code",
      "source": [
        "from torchtext.vocab import build_vocab_from_iterator\n",
        "\n",
        "def yield_tokens(data_iter):  #data_iter, e.g., train\n",
        "    for _, text in data_iter:\n",
        "        yield tokenizer(text)\n",
        "        \n",
        "vocab = build_vocab_from_iterator(yield_tokens(train_data), specials=['<unk>', '<pad>',\n",
        "                                                                 '<bos>', '<eos>'])"
      ],
      "metadata": {
        "id": "dvF05YE1bU5K"
      },
      "execution_count": 17,
      "outputs": []
    },
    {
      "cell_type": "code",
      "source": [
        "vocab.set_default_index(vocab[\"<unk>\"]) "
      ],
      "metadata": {
        "id": "lMj7v5ARbi-X"
      },
      "execution_count": 18,
      "outputs": []
    },
    {
      "cell_type": "code",
      "source": [
        "vocab(tokens)"
      ],
      "metadata": {
        "colab": {
          "base_uri": "https://localhost:8080/"
        },
        "id": "nkfh_7vJblXG",
        "outputId": "02371cc3-d73c-48e7-cb5e-57ec3438daf7"
      },
      "execution_count": 19,
      "outputs": [
        {
          "output_type": "execute_result",
          "data": {
            "text/plain": [
              "[24,\n",
              " 1131,\n",
              " 13,\n",
              " 6308,\n",
              " 9,\n",
              " 28,\n",
              " 4,\n",
              " 2595,\n",
              " 2551,\n",
              " 12,\n",
              " 134,\n",
              " 25,\n",
              " 25,\n",
              " 5994,\n",
              " 69,\n",
              " 8,\n",
              " 15,\n",
              " 93,\n",
              " 12,\n",
              " 243,\n",
              " 9,\n",
              " 89,\n",
              " 6,\n",
              " 5953,\n",
              " 84,\n",
              " 3652,\n",
              " 40,\n",
              " 2304,\n",
              " 2511,\n",
              " 5,\n",
              " 3175,\n",
              " 11,\n",
              " 7357,\n",
              " 2562,\n",
              " 4927,\n",
              " 43,\n",
              " 896,\n",
              " 8149,\n",
              " 10]"
            ]
          },
          "metadata": {},
          "execution_count": 19
        }
      ]
    },
    {
      "cell_type": "code",
      "source": [
        "id2word = vocab.get_itos()"
      ],
      "metadata": {
        "id": "8bW7kIPob5zy"
      },
      "execution_count": 20,
      "outputs": []
    },
    {
      "cell_type": "code",
      "source": [
        "id2word[0]"
      ],
      "metadata": {
        "colab": {
          "base_uri": "https://localhost:8080/",
          "height": 36
        },
        "id": "kpev7hhyb9dr",
        "outputId": "fdf4bb77-770e-4aae-82e4-868c7c577a14"
      },
      "execution_count": 21,
      "outputs": [
        {
          "output_type": "execute_result",
          "data": {
            "text/plain": [
              "'<unk>'"
            ],
            "application/vnd.google.colaboratory.intrinsic+json": {
              "type": "string"
            }
          },
          "metadata": {},
          "execution_count": 21
        }
      ]
    },
    {
      "cell_type": "code",
      "source": [
        "vocab(['<pad>','<bos>','<eos>'])"
      ],
      "metadata": {
        "colab": {
          "base_uri": "https://localhost:8080/"
        },
        "id": "sPjV7APdb-6O",
        "outputId": "77e89eae-f53a-43eb-e08b-0d7cea82441c"
      },
      "execution_count": 22,
      "outputs": [
        {
          "output_type": "execute_result",
          "data": {
            "text/plain": [
              "[1, 2, 3]"
            ]
          },
          "metadata": {},
          "execution_count": 22
        }
      ]
    },
    {
      "cell_type": "code",
      "source": [
        "len(vocab)"
      ],
      "metadata": {
        "colab": {
          "base_uri": "https://localhost:8080/"
        },
        "id": "iXQItmIJcAS8",
        "outputId": "9af463c7-a3e5-43e4-c93b-9849955e6428"
      },
      "execution_count": 23,
      "outputs": [
        {
          "output_type": "execute_result",
          "data": {
            "text/plain": [
              "17136"
            ]
          },
          "metadata": {},
          "execution_count": 23
        }
      ]
    },
    {
      "cell_type": "markdown",
      "source": [
        "# 3. FastText Embedding"
      ],
      "metadata": {
        "id": "UihheNy7cC8A"
      }
    },
    {
      "cell_type": "code",
      "source": [
        "from torchtext.vocab import FastText\n",
        "fast_vectors = FastText(language='simple')"
      ],
      "metadata": {
        "id": "HRRErTG6cBxO"
      },
      "execution_count": 24,
      "outputs": []
    },
    {
      "cell_type": "code",
      "source": [
        "fast_embedding = fast_vectors.get_vecs_by_tokens(vocab.get_itos())"
      ],
      "metadata": {
        "id": "14uH5TqBcIkB"
      },
      "execution_count": 25,
      "outputs": []
    },
    {
      "cell_type": "code",
      "source": [
        "fast_embedding.shape"
      ],
      "metadata": {
        "colab": {
          "base_uri": "https://localhost:8080/"
        },
        "id": "J-srghdBcM0P",
        "outputId": "80b0278e-fc71-40e1-9bfc-186efd245389"
      },
      "execution_count": 26,
      "outputs": [
        {
          "output_type": "execute_result",
          "data": {
            "text/plain": [
              "torch.Size([17136, 300])"
            ]
          },
          "metadata": {},
          "execution_count": 26
        }
      ]
    },
    {
      "cell_type": "code",
      "source": [
        "fast_embedding[97][:10]"
      ],
      "metadata": {
        "colab": {
          "base_uri": "https://localhost:8080/"
        },
        "id": "grmdyvYGcOR2",
        "outputId": "0132023f-3d93-4ba5-f782-dabc8bfe23bb"
      },
      "execution_count": 27,
      "outputs": [
        {
          "output_type": "execute_result",
          "data": {
            "text/plain": [
              "tensor([-0.0129, -0.3870,  0.4670,  0.0256,  0.1554, -0.0399, -0.2793,  0.0717,\n",
              "        -0.4365,  0.2239])"
            ]
          },
          "metadata": {},
          "execution_count": 27
        }
      ]
    },
    {
      "cell_type": "markdown",
      "source": [
        "# 4. Preparing dataloader"
      ],
      "metadata": {
        "id": "iSSKwNXacS_W"
      }
    },
    {
      "cell_type": "code",
      "source": [
        "from torch.utils.data import DataLoader\n",
        "from torch.nn.utils.rnn import pad_sequence "
      ],
      "metadata": {
        "id": "Q2yKQ4YOcRMV"
      },
      "execution_count": 28,
      "outputs": []
    },
    {
      "cell_type": "code",
      "source": [
        "text_pipeline = lambda x: vocab(tokenizer(x))\n",
        "label_pipeline = lambda x:int(x)"
      ],
      "metadata": {
        "id": "DhTyrMKhcbyb"
      },
      "execution_count": 29,
      "outputs": []
    },
    {
      "cell_type": "code",
      "source": [
        "pad_idx = vocab['<pad>']\n",
        "\n",
        "#this function gonna be called by DataLoader\n",
        "def collate_batch(batch):\n",
        "    label_list, text_list, length_list = [], [], []\n",
        "    for (_label, _text) in batch:\n",
        "        label_list.append(label_pipeline(_label))\n",
        "        processed_text = torch.tensor(text_pipeline(_text), dtype=torch.int64)\n",
        "        text_list.append(processed_text)\n",
        "        length_list.append(processed_text.size(0)) #for padding\n",
        "        \n",
        "    return torch.tensor(label_list, dtype=torch.int64), \\\n",
        "        pad_sequence(text_list, padding_value=pad_idx, batch_first=True), \\\n",
        "        torch.tensor(length_list, dtype=torch.int64)"
      ],
      "metadata": {
        "id": "O2SnTFNxcdfG"
      },
      "execution_count": 30,
      "outputs": []
    },
    {
      "cell_type": "code",
      "source": [
        "batch_size = 64\n",
        "\n",
        "train_loader = DataLoader(train_data, batch_size = batch_size, shuffle=True, collate_fn=collate_batch)\n",
        "test_loader = DataLoader(test_data, batch_size = batch_size, shuffle=True, collate_fn=collate_batch)\n",
        "valid_loader = DataLoader(valid_data, batch_size = batch_size, shuffle=True, collate_fn=collate_batch)"
      ],
      "metadata": {
        "id": "EcUm98hecfSo"
      },
      "execution_count": 31,
      "outputs": []
    },
    {
      "cell_type": "code",
      "source": [
        "train_loader_length = len(list(iter(train_loader)))\n",
        "valid_loader_length   = len(list(iter(valid_loader)))\n",
        "test_loader_length  = len(list(iter(test_loader)))"
      ],
      "metadata": {
        "id": "DAWjp646ci5I"
      },
      "execution_count": 32,
      "outputs": []
    },
    {
      "cell_type": "code",
      "source": [
        "train_loader_length,valid_loader_length,test_loader_length"
      ],
      "metadata": {
        "colab": {
          "base_uri": "https://localhost:8080/"
        },
        "id": "kGg9eGqHcoEU",
        "outputId": "862a3096-9871-4f4f-b811-f6599a2ba7f3"
      },
      "execution_count": 33,
      "outputs": [
        {
          "output_type": "execute_result",
          "data": {
            "text/plain": [
              "(4978, 648, 1291)"
            ]
          },
          "metadata": {},
          "execution_count": 33
        }
      ]
    },
    {
      "cell_type": "code",
      "source": [
        "for label, text, length in train_loader:\n",
        "  break"
      ],
      "metadata": {
        "id": "V6QqaoAkc093"
      },
      "execution_count": 34,
      "outputs": []
    },
    {
      "cell_type": "code",
      "source": [
        "label, text, length"
      ],
      "metadata": {
        "colab": {
          "base_uri": "https://localhost:8080/"
        },
        "id": "kzeCiuwXpzXz",
        "outputId": "09a4164f-cdf7-4604-e461-cb0318ae2b4b"
      },
      "execution_count": 35,
      "outputs": [
        {
          "output_type": "execute_result",
          "data": {
            "text/plain": [
              "(tensor([2, 3, 2, 2, 2, 3, 2, 2, 2, 2, 2, 2, 2, 2, 3, 2, 2, 2, 1, 2, 2, 2, 2, 1,\n",
              "         3, 2, 3, 2, 3, 2, 2, 3, 2, 4, 2, 2, 2, 2, 2, 2, 2, 2, 2, 2, 2, 2, 3, 2,\n",
              "         2, 2, 2, 3, 2, 2, 2, 2, 2, 2, 2, 2, 1, 4, 3, 2]),\n",
              " tensor([[  273,     1,     1,  ...,     1,     1,     1],\n",
              "         [12727,   238,   278,  ...,     1,     1,     1],\n",
              "         [ 1045,   175,     1,  ...,     1,     1,     1],\n",
              "         ...,\n",
              "         [  365,    65,     1,  ...,     1,     1,     1],\n",
              "         [   13,  2479,     9,  ...,     1,     1,     1],\n",
              "         [   24,    18,     1,  ...,     1,     1,     1]]),\n",
              " tensor([ 1,  3,  2,  1,  1,  5,  6,  1, 16, 15,  1,  1,  1, 16,  3,  1,  1,  4,\n",
              "          5,  2,  1,  1,  1,  1,  1,  1,  4,  2,  8,  2,  1,  8,  1,  1,  1,  1,\n",
              "         13, 12,  1,  2,  1,  7,  1,  1,  1,  4,  3,  1,  1,  8,  1,  4,  2,  8,\n",
              "          1,  1,  6,  7,  2,  1,  6,  2,  4,  2]))"
            ]
          },
          "metadata": {},
          "execution_count": 35
        }
      ]
    },
    {
      "cell_type": "code",
      "source": [
        "label.shape, text.shape, length.shape"
      ],
      "metadata": {
        "colab": {
          "base_uri": "https://localhost:8080/"
        },
        "id": "mytktDiLc3dO",
        "outputId": "1cd794c5-42b8-46a5-9a33-19b79a3ee927"
      },
      "execution_count": 36,
      "outputs": [
        {
          "output_type": "execute_result",
          "data": {
            "text/plain": [
              "(torch.Size([64]), torch.Size([64, 16]), torch.Size([64]))"
            ]
          },
          "metadata": {},
          "execution_count": 36
        }
      ]
    },
    {
      "cell_type": "markdown",
      "source": [
        "# 5. Designing the model"
      ],
      "metadata": {
        "id": "w3Z0OqvMc8x4"
      }
    },
    {
      "cell_type": "code",
      "source": [
        "class LSTM(nn.Module):\n",
        "    def __init__(self, input_dim, emb_dim, hid_dim, output_dim, num_layers, bidirectional, dropout):\n",
        "        super().__init__()\n",
        "        #put padding_idx so asking the embedding layer to ignore padding\n",
        "        self.embedding = nn.Embedding(input_dim, emb_dim, padding_idx=pad_idx)\n",
        "        self.lstm = nn.LSTM(emb_dim, \n",
        "                           hid_dim, \n",
        "                           num_layers=num_layers, \n",
        "                           bidirectional=bidirectional, \n",
        "                           dropout=dropout,\n",
        "                           batch_first=True)\n",
        "        self.fc = nn.Linear(hid_dim * 2, output_dim)\n",
        "        \n",
        "    def forward(self, text, text_lengths):\n",
        "        #text = [batch size, seq len]\n",
        "        embedded = self.embedding(text)\n",
        "        \n",
        "        #++ pack sequence ++\n",
        "        packed_embedded = nn.utils.rnn.pack_padded_sequence(embedded, text_lengths.to('cpu'), enforce_sorted=False, batch_first=True)\n",
        "        \n",
        "        #embedded = [batch size, seq len, embed dim]\n",
        "        packed_output, (hn, cn) = self.lstm(packed_embedded)  #if no h0, all zeroes\n",
        "        \n",
        "        #++ unpack in case we need to use it ++\n",
        "        output, output_lengths = nn.utils.rnn.pad_packed_sequence(packed_output, batch_first=True)\n",
        "        \n",
        "        #output = [batch size, seq len, hidden dim * num directions]\n",
        "        #output over padding tokens are zero tensors\n",
        "        \n",
        "        #hidden = [num layers * num directions, batch size, hid dim]\n",
        "        #cell = [num layers * num directions, batch size, hid dim]\n",
        "        \n",
        "        #concat the final forward (hidden[-2,:,:]) and backward (hidden[-1,:,:]) hidden layers\n",
        "        hn = torch.cat((hn[-1,:,:], hn[-2,:,:]), dim = 1)\n",
        "        #hn = [batch size, hidden dim * num directions]\n",
        "        \n",
        "        return self.fc(hn)"
      ],
      "metadata": {
        "id": "tAjJ1tZgc6eN"
      },
      "execution_count": 37,
      "outputs": []
    },
    {
      "cell_type": "markdown",
      "source": [
        "# 6. Training"
      ],
      "metadata": {
        "id": "h6FfVJfVdaRX"
      }
    },
    {
      "cell_type": "code",
      "source": [
        "def initialize_weights(m):\n",
        "    if isinstance(m, nn.Linear):\n",
        "        nn.init.xavier_normal_(m.weight)\n",
        "        nn.init.zeros_(m.bias)\n",
        "    elif isinstance(m, nn.LSTM):\n",
        "        for name, param in m.named_parameters():\n",
        "            if 'bias' in name:\n",
        "                nn.init.zeros_(param)\n",
        "            elif 'weight' in name:\n",
        "                nn.init.orthogonal_(param)"
      ],
      "metadata": {
        "id": "84V9lbw2dVP_"
      },
      "execution_count": 38,
      "outputs": []
    },
    {
      "cell_type": "code",
      "source": [
        "input_dim  = len(vocab)\n",
        "hid_dim    = 256\n",
        "emb_dim    = 300         #**<----change to 300\n",
        "output_dim = 5 #five classes\n",
        "\n",
        "#for biLSTM\n",
        "num_layers = 2\n",
        "bidirectional = True\n",
        "dropout = 0.5\n",
        "\n",
        "model = LSTM(input_dim, emb_dim, hid_dim, output_dim, num_layers, bidirectional, dropout)\n",
        "model.apply(initialize_weights)\n",
        "model.embedding.weight.data = fast_embedding #**<------applied the fast text embeddi"
      ],
      "metadata": {
        "id": "onss_5fNdvXv"
      },
      "execution_count": 39,
      "outputs": []
    },
    {
      "cell_type": "code",
      "source": [
        "def count_parameters(model):\n",
        "    params = [p.numel() for p in model.parameters() if p.requires_grad]\n",
        "    for item in params:\n",
        "        print(f'{item:>6}')\n",
        "    print(f'______\\n{sum(params):>6}')\n",
        "    \n",
        "count_parameters(model)"
      ],
      "metadata": {
        "colab": {
          "base_uri": "https://localhost:8080/"
        },
        "id": "azbH7QnEeCMx",
        "outputId": "074999c6-989b-4161-ce70-9bd70798904a"
      },
      "execution_count": 40,
      "outputs": [
        {
          "output_type": "stream",
          "name": "stdout",
          "text": [
            "5140800\n",
            "307200\n",
            "262144\n",
            "  1024\n",
            "  1024\n",
            "307200\n",
            "262144\n",
            "  1024\n",
            "  1024\n",
            "524288\n",
            "262144\n",
            "  1024\n",
            "  1024\n",
            "524288\n",
            "262144\n",
            "  1024\n",
            "  1024\n",
            "  2560\n",
            "     5\n",
            "______\n",
            "7863109\n"
          ]
        }
      ]
    },
    {
      "cell_type": "code",
      "source": [
        "import torch.optim as optim\n",
        "\n",
        "lr=1e-3\n",
        "\n",
        "#training hyperparameters\n",
        "optimizer = optim.Adam(model.parameters(), lr=lr)\n",
        "criterion = nn.CrossEntropyLoss() #combine softmax with cross entropy"
      ],
      "metadata": {
        "id": "xYdRdmn3e3li"
      },
      "execution_count": 41,
      "outputs": []
    },
    {
      "cell_type": "code",
      "source": [
        "def accuracy(preds, y):\n",
        "    predicted = torch.max(preds.data, 1)[1]\n",
        "    batch_corr = (predicted == y).sum()\n",
        "    acc = batch_corr / len(y)\n",
        "    \n",
        "    return acc"
      ],
      "metadata": {
        "id": "RqtcYEuXe5fX"
      },
      "execution_count": 42,
      "outputs": []
    },
    {
      "cell_type": "code",
      "source": [
        "def train(model, loader, optimizer, criterion, loader_length):\n",
        "    epoch_loss = 0\n",
        "    epoch_acc = 0\n",
        "    model.train() #useful for batchnorm and dropout\n",
        "    \n",
        "    for i, (label, text, text_length) in enumerate(loader):\n",
        "        if i%500 == 0:\n",
        "          print(f\"Training {i} out of {loader_length}\") \n",
        "        #predict\n",
        "        predictions = model(text, text_length).squeeze(1)\n",
        "        #calculate loss\n",
        "        loss = criterion(predictions, label)\n",
        "        acc  = accuracy(predictions, label)\n",
        "        #backprop\n",
        "        optimizer.zero_grad()\n",
        "        loss.backward()\n",
        "        optimizer.step()\n",
        "        \n",
        "        epoch_loss += loss.item()\n",
        "        epoch_acc += acc.item()\n",
        "\n",
        "    return epoch_loss / loader_length, epoch_acc / loader_length"
      ],
      "metadata": {
        "id": "e_H53H_WgBss"
      },
      "execution_count": 43,
      "outputs": []
    },
    {
      "cell_type": "code",
      "source": [
        "def evaluate(model, loader, criterion, loader_length):\n",
        "    epoch_loss = 0\n",
        "    epoch_acc = 0\n",
        "    model.eval()\n",
        "    \n",
        "    with torch.no_grad():\n",
        "        for i, (label, text, text_length) in enumerate(loader): \n",
        "            predictions = model(text, text_length).squeeze(1) \n",
        "            loss = criterion(predictions, label)\n",
        "            acc  = accuracy(predictions, label)\n",
        "\n",
        "            epoch_loss += loss.item()\n",
        "            epoch_acc += acc.item()\n",
        "        \n",
        "    return epoch_loss / loader_length, epoch_acc / loader_length"
      ],
      "metadata": {
        "id": "M3y_rZU_gAHs"
      },
      "execution_count": 44,
      "outputs": []
    },
    {
      "cell_type": "code",
      "source": [
        "def epoch_time(start_time, end_time):\n",
        "    elapsed_time = end_time - start_time\n",
        "    elapsed_mins = int(elapsed_time / 60)\n",
        "    elapsed_secs = int(elapsed_time - (elapsed_mins * 60))\n",
        "    return elapsed_mins, elapsed_secs"
      ],
      "metadata": {
        "id": "U_XPEPzAf-NN"
      },
      "execution_count": 45,
      "outputs": []
    },
    {
      "cell_type": "code",
      "source": [
        "best_valid_loss = float('inf')\n",
        "num_epochs      = 10\n",
        "tolerance_counter = 0\n",
        "\n",
        "save_path = f'{model.__class__.__name__}_TreeBank.pt'\n",
        "\n",
        "train_losses = []\n",
        "train_accs = []\n",
        "valid_losses = []\n",
        "valid_accs = []\n",
        "\n",
        "for epoch in range(num_epochs):\n",
        "    print(f\"Start epoch {epoch}\")\n",
        "    start_time = time.time()\n",
        "    train_loss, train_acc = train(model, train_loader, optimizer, criterion, train_loader_length)\n",
        "    valid_loss, valid_acc = evaluate(model, valid_loader, criterion, valid_loader_length)\n",
        "    \n",
        "    #for plotting\n",
        "    train_losses.append(train_loss)\n",
        "    train_accs.append(train_acc)\n",
        "    valid_losses.append(valid_loss)\n",
        "    valid_accs.append(valid_acc)\n",
        "    \n",
        "    end_time = time.time()\n",
        "    \n",
        "    epoch_mins, epoch_secs = epoch_time(start_time, end_time)\n",
        "    \n",
        "    if valid_loss < best_valid_loss:\n",
        "        best_valid_loss = valid_loss\n",
        "        tolerance_counter = 0\n",
        "        torch.save(model.state_dict(), save_path)\n",
        "    \n",
        "    print(f'Epoch: {epoch+1:02} | Time: {epoch_mins}m {epoch_secs}s')\n",
        "    print(f'\\tTrain Loss: {train_loss:.3f} | Train Acc: {train_acc*100:.2f}%')\n",
        "    print(f'\\t Val. Loss: {valid_loss:.3f} |  Val. Acc: {valid_acc*100:.2f}%')\n",
        "    print(f\"End epoch {epoch}\")\n",
        "    # Tolerance techniques, stop the model if it start to overfit.\n",
        "    if tolerance_counter >= 3:\n",
        "        break\n",
        "\n",
        "    tolerance_counter = tolerance_counter + 1"
      ],
      "metadata": {
        "colab": {
          "base_uri": "https://localhost:8080/"
        },
        "id": "B-IOy5BMe7Iq",
        "outputId": "fdcda4b0-a226-4147-fbb5-b836fcab3eff"
      },
      "execution_count": 46,
      "outputs": [
        {
          "output_type": "stream",
          "name": "stdout",
          "text": [
            "Start epoch 0\n",
            "Training 0 out of 4978\n",
            "Training 500 out of 4978\n",
            "Training 1000 out of 4978\n",
            "Training 1500 out of 4978\n",
            "Training 2000 out of 4978\n",
            "Training 2500 out of 4978\n",
            "Training 3000 out of 4978\n",
            "Training 3500 out of 4978\n",
            "Training 4000 out of 4978\n",
            "Training 4500 out of 4978\n",
            "Epoch: 01 | Time: 30m 31s\n",
            "\tTrain Loss: 0.485 | Train Acc: 80.52%\n",
            "\t Val. Loss: 0.459 |  Val. Acc: 81.53%\n",
            "End epoch 0\n",
            "Start epoch 1\n",
            "Training 0 out of 4978\n",
            "Training 500 out of 4978\n",
            "Training 1000 out of 4978\n",
            "Training 1500 out of 4978\n",
            "Training 2000 out of 4978\n",
            "Training 2500 out of 4978\n",
            "Training 3000 out of 4978\n",
            "Training 3500 out of 4978\n",
            "Training 4000 out of 4978\n",
            "Training 4500 out of 4978\n",
            "Epoch: 02 | Time: 31m 10s\n",
            "\tTrain Loss: 0.356 | Train Acc: 85.19%\n",
            "\t Val. Loss: 0.453 |  Val. Acc: 81.98%\n",
            "End epoch 1\n",
            "Start epoch 2\n",
            "Training 0 out of 4978\n",
            "Training 500 out of 4978\n",
            "Training 1000 out of 4978\n",
            "Training 1500 out of 4978\n",
            "Training 2000 out of 4978\n",
            "Training 2500 out of 4978\n",
            "Training 3000 out of 4978\n",
            "Training 3500 out of 4978\n",
            "Training 4000 out of 4978\n",
            "Training 4500 out of 4978\n",
            "Epoch: 03 | Time: 30m 16s\n",
            "\tTrain Loss: 0.315 | Train Acc: 86.80%\n",
            "\t Val. Loss: 0.481 |  Val. Acc: 80.41%\n",
            "End epoch 2\n",
            "Start epoch 3\n",
            "Training 0 out of 4978\n",
            "Training 500 out of 4978\n",
            "Training 1000 out of 4978\n",
            "Training 1500 out of 4978\n",
            "Training 2000 out of 4978\n",
            "Training 2500 out of 4978\n",
            "Training 3000 out of 4978\n",
            "Training 3500 out of 4978\n",
            "Training 4000 out of 4978\n",
            "Training 4500 out of 4978\n",
            "Epoch: 04 | Time: 30m 39s\n",
            "\tTrain Loss: 0.286 | Train Acc: 87.99%\n",
            "\t Val. Loss: 0.488 |  Val. Acc: 79.93%\n",
            "End epoch 3\n",
            "Start epoch 4\n",
            "Training 0 out of 4978\n",
            "Training 500 out of 4978\n",
            "Training 1000 out of 4978\n",
            "Training 1500 out of 4978\n",
            "Training 2000 out of 4978\n",
            "Training 2500 out of 4978\n",
            "Training 3000 out of 4978\n",
            "Training 3500 out of 4978\n",
            "Training 4000 out of 4978\n",
            "Training 4500 out of 4978\n",
            "Epoch: 05 | Time: 31m 14s\n",
            "\tTrain Loss: 0.262 | Train Acc: 88.95%\n",
            "\t Val. Loss: 0.505 |  Val. Acc: 79.68%\n",
            "End epoch 4\n"
          ]
        }
      ]
    },
    {
      "cell_type": "code",
      "source": [
        "import matplotlib.pyplot as plt\n",
        "fig = plt.figure(figsize=(10, 6))\n",
        "ax = fig.add_subplot(1, 1, 1)\n",
        "ax.plot(train_losses, label = 'train loss')\n",
        "ax.plot(valid_losses, label = 'valid loss')\n",
        "plt.legend()\n",
        "ax.set_xlabel('updates')\n",
        "ax.set_ylabel('loss')"
      ],
      "metadata": {
        "colab": {
          "base_uri": "https://localhost:8080/",
          "height": 405
        },
        "id": "RkM0ZLVw4a88",
        "outputId": "c2dbcd64-5947-40c1-c1b2-e75efbea5599"
      },
      "execution_count": 48,
      "outputs": [
        {
          "output_type": "execute_result",
          "data": {
            "text/plain": [
              "Text(0, 0.5, 'loss')"
            ]
          },
          "metadata": {},
          "execution_count": 48
        },
        {
          "output_type": "display_data",
          "data": {
            "text/plain": [
              "<Figure size 720x432 with 1 Axes>"
            ],
            "image/png": "[encoded data removed]"
          },
          "metadata": {
            "needs_background": "light"
          }
        }
      ]
    },
    {
      "cell_type": "code",
      "source": [
        "fig = plt.figure(figsize=(10, 6))\n",
        "ax = fig.add_subplot(1, 1, 1)\n",
        "ax.plot(train_accs, label = 'train acc')\n",
        "ax.plot(valid_accs, label = 'valid acc')\n",
        "plt.legend()\n",
        "ax.set_xlabel('updates')\n",
        "ax.set_ylabel('acc')"
      ],
      "metadata": {
        "colab": {
          "base_uri": "https://localhost:8080/",
          "height": 405
        },
        "id": "qcyr2qAEz2QR",
        "outputId": "69e70ae8-827b-4e5d-f15f-386f9c610ac2"
      },
      "execution_count": 49,
      "outputs": [
        {
          "output_type": "execute_result",
          "data": {
            "text/plain": [
              "Text(0, 0.5, 'acc')"
            ]
          },
          "metadata": {},
          "execution_count": 49
        },
        {
          "output_type": "display_data",
          "data": {
            "text/plain": [
              "<Figure size 720x432 with 1 Axes>"
            ],
            "image/png": "[encoded data removed]"
          },
          "metadata": {
            "needs_background": "light"
          }
        }
      ]
    },
    {
      "cell_type": "code",
      "source": [
        "model.load_state_dict(torch.load(save_path))\n",
        "\n",
        "test_loss, test_acc = evaluate(model, test_loader, criterion, test_loader_length)\n",
        "\n",
        "print(f'Test Loss: {test_loss:.3f} | Test Acc: {test_acc*100:.2f}%')"
      ],
      "metadata": {
        "colab": {
          "base_uri": "https://localhost:8080/"
        },
        "id": "XqgG4Ry2z2l_",
        "outputId": "ce26ed1c-cd79-445a-da34-de4b1809b77e"
      },
      "execution_count": 51,
      "outputs": [
        {
          "output_type": "stream",
          "name": "stdout",
          "text": [
            "Test Loss: 0.457 | Test Acc: 82.06%\n"
          ]
        }
      ]
    },
    {
      "cell_type": "markdown",
      "source": [
        "# 7. Testing"
      ],
      "metadata": {
        "id": "Y8fTs_Ia0X4B"
      }
    },
    {
      "cell_type": "code",
      "source": [
        "test_str_list = ['The movie was not as good as I had hoped',\n",
        "    'What a waste of space, why is this trash even here',\n",
        "    'Overall, the movie was not so bad',\n",
        "    'I wouldn\\'t say this is the best movie but it was defintely good',\n",
        "    \"WOW, this is the best movie of all time\" \n",
        "    ] "
      ],
      "metadata": {
        "id": "OrAlnYa1z5M8"
      },
      "execution_count": 70,
      "outputs": []
    },
    {
      "cell_type": "code",
      "source": [
        "def prediction(test_str_list):\n",
        "    result = list()\n",
        "    for test_str in test_str_list:\n",
        "        text = torch.tensor(text_pipeline(test_str)).reshape(1, -1)\n",
        "        # text_list = [x.item() for x in text]\n",
        "        text_length = torch.tensor([text.size(1)]).to(dtype=torch.int64)\n",
        "        output = model(text, text_length).squeeze(1)\n",
        "        predicted = torch.max(output.data, 1)[1] #.detach().cpu().numpy()\n",
        "        result.append((test_str, predicted.item()))\n",
        "    return result"
      ],
      "metadata": {
        "id": "BwCehlEu0PaV"
      },
      "execution_count": 71,
      "outputs": []
    },
    {
      "cell_type": "code",
      "source": [
        "prediction(test_str_list)"
      ],
      "metadata": {
        "colab": {
          "base_uri": "https://localhost:8080/"
        },
        "id": "mxMwBuIc0UOy",
        "outputId": "e1894f49-bcbf-4931-9aed-8d1d7f1d2d6c"
      },
      "execution_count": 72,
      "outputs": [
        {
          "output_type": "execute_result",
          "data": {
            "text/plain": [
              "[('The movie was not as good as I had hoped', 1),\n",
              " ('What a waste of space, why is this trash even here', 0),\n",
              " ('Overall, the movie was not so bad', 2),\n",
              " (\"I wouldn't say this is the best movie but it was defintely good\", 3),\n",
              " ('WOW, this is the best movie of all time', 4)]"
            ]
          },
          "metadata": {},
          "execution_count": 72
        }
      ]
    }
  ]
}